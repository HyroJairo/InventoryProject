{
  "cells": [
    {
      "cell_type": "markdown",
      "metadata": {
        "id": "view-in-github",
        "colab_type": "text"
      },
      "source": [
        "<a href=\"https://colab.research.google.com/github/Pholoxo/InventoryProject/blob/master/Movie_Recommendation.ipynb\" target=\"_parent\"><img src=\"https://colab.research.google.com/assets/colab-badge.svg\" alt=\"Open In Colab\"/></a>"
      ]
    },
    {
      "cell_type": "code",
      "execution_count": null,
      "metadata": {
        "id": "oGhBb4QqRVCK"
      },
      "outputs": [],
      "source": [
        "#Description: Build a movie recommendation engine using python"
      ]
    },
    {
      "cell_type": "code",
      "execution_count": null,
      "metadata": {
        "id": "LJ8JvvFWRfTo"
      },
      "outputs": [],
      "source": [
        "#Import the libraries\n",
        "import pandas as pd\n",
        "import numpy as np\n",
        "from sklearn.metrics.pairwise import cosine_similarity\n",
        "from sklearn.feature_extraction.text import CountVectorizer"
      ]
    },
    {
      "cell_type": "code",
      "execution_count": 18,
      "metadata": {
        "colab": {
          "base_uri": "https://localhost:8080/",
          "height": 76,
          "resources": {
            "http://localhost:8080/nbextensions/google.colab/files.js": {
              "data": "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",
              "ok": true,
              "headers": [
                [
                  "content-type",
                  "application/javascript"
                ]
              ],
              "status": 200,
              "status_text": "OK"
            }
          }
        },
        "id": "XdISCh26SvaX",
        "outputId": "2d8b7723-4179-453c-c97f-6f43747ef8d3"
      },
      "outputs": [
        {
          "output_type": "display_data",
          "data": {
            "text/plain": [
              "<IPython.core.display.HTML object>"
            ],
            "text/html": [
              "\n",
              "     <input type=\"file\" id=\"files-3a777ec6-53c6-4c45-8b81-2f25728351e9\" name=\"files[]\" multiple disabled\n",
              "        style=\"border:none\" />\n",
              "     <output id=\"result-3a777ec6-53c6-4c45-8b81-2f25728351e9\">\n",
              "      Upload widget is only available when the cell has been executed in the\n",
              "      current browser session. Please rerun this cell to enable.\n",
              "      </output>\n",
              "      <script src=\"/nbextensions/google.colab/files.js\"></script> "
            ]
          },
          "metadata": {}
        },
        {
          "output_type": "stream",
          "name": "stdout",
          "text": [
            "Saving imdb_top_1000.csv to imdb_top_1000.csv\n"
          ]
        }
      ],
      "source": [
        "#Load the data\n",
        "from google.colab import files\n",
        "uploaded = files.upload()"
      ]
    },
    {
      "cell_type": "code",
      "execution_count": 20,
      "metadata": {
        "id": "HO_YXVo0S6xj",
        "colab": {
          "base_uri": "https://localhost:8080/",
          "height": 537
        },
        "outputId": "934e3e98-356f-4210-fb2f-7b42e4f30fff"
      },
      "outputs": [
        {
          "output_type": "execute_result",
          "data": {
            "text/plain": [
              "   Movie_id              Series_Title Released_Year Certificate  Runtime  \\\n",
              "0         0  The Shawshank Redemption          1994           A  142 min   \n",
              "1         1             The Godfather          1972           A  175 min   \n",
              "2         2           The Dark Knight          2008          UA  152 min   \n",
              "\n",
              "                  Genre  IMDB_Rating  \\\n",
              "0                 Drama          9.3   \n",
              "1          Crime, Drama          9.2   \n",
              "2  Action, Crime, Drama          9.0   \n",
              "\n",
              "                                            Overview  Meta_score  \\\n",
              "0  Two imprisoned men bond over a number of years...        80.0   \n",
              "1  An organized crime dynasty's aging patriarch t...       100.0   \n",
              "2  When the menace known as the Joker wreaks havo...        84.0   \n",
              "\n",
              "               Director           Star1           Star2          Star3  \\\n",
              "0        Frank Darabont     Tim Robbins  Morgan Freeman     Bob Gunton   \n",
              "1  Francis Ford Coppola   Marlon Brando       Al Pacino     James Caan   \n",
              "2     Christopher Nolan  Christian Bale    Heath Ledger  Aaron Eckhart   \n",
              "\n",
              "            Star4                                             Actors  \\\n",
              "0  William Sadler  Tim Robbins, Morgan Freeman, Bob Gunton, Willi...   \n",
              "1    Diane Keaton  Marlon Brando, Al Pacino, James Caan, Diane Ke...   \n",
              "2   Michael Caine  Christian Bale, Heath Ledger, Aaron Eckhart, M...   \n",
              "\n",
              "   No_of_Votes        Gross  \n",
              "0      2343110   28,341,469  \n",
              "1      1620367  134,966,411  \n",
              "2      2303232  534,858,444  "
            ],
            "text/html": [
              "\n",
              "  <div id=\"df-e1023f55-30e8-47c6-aec6-853183559d9c\">\n",
              "    <div class=\"colab-df-container\">\n",
              "      <div>\n",
              "<style scoped>\n",
              "    .dataframe tbody tr th:only-of-type {\n",
              "        vertical-align: middle;\n",
              "    }\n",
              "\n",
              "    .dataframe tbody tr th {\n",
              "        vertical-align: top;\n",
              "    }\n",
              "\n",
              "    .dataframe thead th {\n",
              "        text-align: right;\n",
              "    }\n",
              "</style>\n",
              "<table border=\"1\" class=\"dataframe\">\n",
              "  <thead>\n",
              "    <tr style=\"text-align: right;\">\n",
              "      <th></th>\n",
              "      <th>Movie_id</th>\n",
              "      <th>Series_Title</th>\n",
              "      <th>Released_Year</th>\n",
              "      <th>Certificate</th>\n",
              "      <th>Runtime</th>\n",
              "      <th>Genre</th>\n",
              "      <th>IMDB_Rating</th>\n",
              "      <th>Overview</th>\n",
              "      <th>Meta_score</th>\n",
              "      <th>Director</th>\n",
              "      <th>Star1</th>\n",
              "      <th>Star2</th>\n",
              "      <th>Star3</th>\n",
              "      <th>Star4</th>\n",
              "      <th>Actors</th>\n",
              "      <th>No_of_Votes</th>\n",
              "      <th>Gross</th>\n",
              "    </tr>\n",
              "  </thead>\n",
              "  <tbody>\n",
              "    <tr>\n",
              "      <th>0</th>\n",
              "      <td>0</td>\n",
              "      <td>The Shawshank Redemption</td>\n",
              "      <td>1994</td>\n",
              "      <td>A</td>\n",
              "      <td>142 min</td>\n",
              "      <td>Drama</td>\n",
              "      <td>9.3</td>\n",
              "      <td>Two imprisoned men bond over a number of years...</td>\n",
              "      <td>80.0</td>\n",
              "      <td>Frank Darabont</td>\n",
              "      <td>Tim Robbins</td>\n",
              "      <td>Morgan Freeman</td>\n",
              "      <td>Bob Gunton</td>\n",
              "      <td>William Sadler</td>\n",
              "      <td>Tim Robbins, Morgan Freeman, Bob Gunton, Willi...</td>\n",
              "      <td>2343110</td>\n",
              "      <td>28,341,469</td>\n",
              "    </tr>\n",
              "    <tr>\n",
              "      <th>1</th>\n",
              "      <td>1</td>\n",
              "      <td>The Godfather</td>\n",
              "      <td>1972</td>\n",
              "      <td>A</td>\n",
              "      <td>175 min</td>\n",
              "      <td>Crime, Drama</td>\n",
              "      <td>9.2</td>\n",
              "      <td>An organized crime dynasty's aging patriarch t...</td>\n",
              "      <td>100.0</td>\n",
              "      <td>Francis Ford Coppola</td>\n",
              "      <td>Marlon Brando</td>\n",
              "      <td>Al Pacino</td>\n",
              "      <td>James Caan</td>\n",
              "      <td>Diane Keaton</td>\n",
              "      <td>Marlon Brando, Al Pacino, James Caan, Diane Ke...</td>\n",
              "      <td>1620367</td>\n",
              "      <td>134,966,411</td>\n",
              "    </tr>\n",
              "    <tr>\n",
              "      <th>2</th>\n",
              "      <td>2</td>\n",
              "      <td>The Dark Knight</td>\n",
              "      <td>2008</td>\n",
              "      <td>UA</td>\n",
              "      <td>152 min</td>\n",
              "      <td>Action, Crime, Drama</td>\n",
              "      <td>9.0</td>\n",
              "      <td>When the menace known as the Joker wreaks havo...</td>\n",
              "      <td>84.0</td>\n",
              "      <td>Christopher Nolan</td>\n",
              "      <td>Christian Bale</td>\n",
              "      <td>Heath Ledger</td>\n",
              "      <td>Aaron Eckhart</td>\n",
              "      <td>Michael Caine</td>\n",
              "      <td>Christian Bale, Heath Ledger, Aaron Eckhart, M...</td>\n",
              "      <td>2303232</td>\n",
              "      <td>534,858,444</td>\n",
              "    </tr>\n",
              "  </tbody>\n",
              "</table>\n",
              "</div>\n",
              "      <button class=\"colab-df-convert\" onclick=\"convertToInteractive('df-e1023f55-30e8-47c6-aec6-853183559d9c')\"\n",
              "              title=\"Convert this dataframe to an interactive table.\"\n",
              "              style=\"display:none;\">\n",
              "        \n",
              "  <svg xmlns=\"http://www.w3.org/2000/svg\" height=\"24px\"viewBox=\"0 0 24 24\"\n",
              "       width=\"24px\">\n",
              "    <path d=\"M0 0h24v24H0V0z\" fill=\"none\"/>\n",
              "    <path d=\"M18.56 5.44l.94 2.06.94-2.06 2.06-.94-2.06-.94-.94-2.06-.94 2.06-2.06.94zm-11 1L8.5 8.5l.94-2.06 2.06-.94-2.06-.94L8.5 2.5l-.94 2.06-2.06.94zm10 10l.94 2.06.94-2.06 2.06-.94-2.06-.94-.94-2.06-.94 2.06-2.06.94z\"/><path d=\"M17.41 7.96l-1.37-1.37c-.4-.4-.92-.59-1.43-.59-.52 0-1.04.2-1.43.59L10.3 9.45l-7.72 7.72c-.78.78-.78 2.05 0 2.83L4 21.41c.39.39.9.59 1.41.59.51 0 1.02-.2 1.41-.59l7.78-7.78 2.81-2.81c.8-.78.8-2.07 0-2.86zM5.41 20L4 18.59l7.72-7.72 1.47 1.35L5.41 20z\"/>\n",
              "  </svg>\n",
              "      </button>\n",
              "      \n",
              "  <style>\n",
              "    .colab-df-container {\n",
              "      display:flex;\n",
              "      flex-wrap:wrap;\n",
              "      gap: 12px;\n",
              "    }\n",
              "\n",
              "    .colab-df-convert {\n",
              "      background-color: #E8F0FE;\n",
              "      border: none;\n",
              "      border-radius: 50%;\n",
              "      cursor: pointer;\n",
              "      display: none;\n",
              "      fill: #1967D2;\n",
              "      height: 32px;\n",
              "      padding: 0 0 0 0;\n",
              "      width: 32px;\n",
              "    }\n",
              "\n",
              "    .colab-df-convert:hover {\n",
              "      background-color: #E2EBFA;\n",
              "      box-shadow: 0px 1px 2px rgba(60, 64, 67, 0.3), 0px 1px 3px 1px rgba(60, 64, 67, 0.15);\n",
              "      fill: #174EA6;\n",
              "    }\n",
              "\n",
              "    [theme=dark] .colab-df-convert {\n",
              "      background-color: #3B4455;\n",
              "      fill: #D2E3FC;\n",
              "    }\n",
              "\n",
              "    [theme=dark] .colab-df-convert:hover {\n",
              "      background-color: #434B5C;\n",
              "      box-shadow: 0px 1px 3px 1px rgba(0, 0, 0, 0.15);\n",
              "      filter: drop-shadow(0px 1px 2px rgba(0, 0, 0, 0.3));\n",
              "      fill: #FFFFFF;\n",
              "    }\n",
              "  </style>\n",
              "\n",
              "      <script>\n",
              "        const buttonEl =\n",
              "          document.querySelector('#df-e1023f55-30e8-47c6-aec6-853183559d9c button.colab-df-convert');\n",
              "        buttonEl.style.display =\n",
              "          google.colab.kernel.accessAllowed ? 'block' : 'none';\n",
              "\n",
              "        async function convertToInteractive(key) {\n",
              "          const element = document.querySelector('#df-e1023f55-30e8-47c6-aec6-853183559d9c');\n",
              "          const dataTable =\n",
              "            await google.colab.kernel.invokeFunction('convertToInteractive',\n",
              "                                                     [key], {});\n",
              "          if (!dataTable) return;\n",
              "\n",
              "          const docLinkHtml = 'Like what you see? Visit the ' +\n",
              "            '<a target=\"_blank\" href=https://colab.research.google.com/notebooks/data_table.ipynb>data table notebook</a>'\n",
              "            + ' to learn more about interactive tables.';\n",
              "          element.innerHTML = '';\n",
              "          dataTable['output_type'] = 'display_data';\n",
              "          await google.colab.output.renderOutput(dataTable, element);\n",
              "          const docLink = document.createElement('div');\n",
              "          docLink.innerHTML = docLinkHtml;\n",
              "          element.appendChild(docLink);\n",
              "        }\n",
              "      </script>\n",
              "    </div>\n",
              "  </div>\n",
              "  "
            ]
          },
          "metadata": {},
          "execution_count": 20
        }
      ],
      "source": [
        "#Store the data\n",
        "df = pd.read_csv('imdb_top_1000.csv')\n",
        "#Show the first 3 rows of data\n",
        "df.head(3)"
      ]
    },
    {
      "cell_type": "code",
      "source": [
        "#Get a count of the number of rows/movies in the data set and the number of columns\n",
        "df.shape"
      ],
      "metadata": {
        "colab": {
          "base_uri": "https://localhost:8080/"
        },
        "id": "juZZsyYR3Iit",
        "outputId": "f31d1f65-8d39-43bc-c09f-b4e0345f7c0d"
      },
      "execution_count": 21,
      "outputs": [
        {
          "output_type": "execute_result",
          "data": {
            "text/plain": [
              "(1000, 17)"
            ]
          },
          "metadata": {},
          "execution_count": 21
        }
      ]
    },
    {
      "cell_type": "code",
      "source": [
        "#Create a list of important columns for the recommendation engine\n",
        "columns = ['Actors', 'Director', 'Genre', 'Series_Title']"
      ],
      "metadata": {
        "id": "tk14TsR23mBL"
      },
      "execution_count": 22,
      "outputs": []
    },
    {
      "cell_type": "code",
      "source": [
        "df[columns].head(3)"
      ],
      "metadata": {
        "colab": {
          "base_uri": "https://localhost:8080/",
          "height": 240
        },
        "id": "9qgO8ubh36TR",
        "outputId": "4d5ae099-c99e-4361-90c1-ae30d42529c9"
      },
      "execution_count": 23,
      "outputs": [
        {
          "output_type": "execute_result",
          "data": {
            "text/plain": [
              "                                              Actors              Director  \\\n",
              "0  Tim Robbins, Morgan Freeman, Bob Gunton, Willi...        Frank Darabont   \n",
              "1  Marlon Brando, Al Pacino, James Caan, Diane Ke...  Francis Ford Coppola   \n",
              "2  Christian Bale, Heath Ledger, Aaron Eckhart, M...     Christopher Nolan   \n",
              "\n",
              "                  Genre              Series_Title  \n",
              "0                 Drama  The Shawshank Redemption  \n",
              "1          Crime, Drama             The Godfather  \n",
              "2  Action, Crime, Drama           The Dark Knight  "
            ],
            "text/html": [
              "\n",
              "  <div id=\"df-ec1479fb-50ee-41bd-8e8f-9d1b071e1593\">\n",
              "    <div class=\"colab-df-container\">\n",
              "      <div>\n",
              "<style scoped>\n",
              "    .dataframe tbody tr th:only-of-type {\n",
              "        vertical-align: middle;\n",
              "    }\n",
              "\n",
              "    .dataframe tbody tr th {\n",
              "        vertical-align: top;\n",
              "    }\n",
              "\n",
              "    .dataframe thead th {\n",
              "        text-align: right;\n",
              "    }\n",
              "</style>\n",
              "<table border=\"1\" class=\"dataframe\">\n",
              "  <thead>\n",
              "    <tr style=\"text-align: right;\">\n",
              "      <th></th>\n",
              "      <th>Actors</th>\n",
              "      <th>Director</th>\n",
              "      <th>Genre</th>\n",
              "      <th>Series_Title</th>\n",
              "    </tr>\n",
              "  </thead>\n",
              "  <tbody>\n",
              "    <tr>\n",
              "      <th>0</th>\n",
              "      <td>Tim Robbins, Morgan Freeman, Bob Gunton, Willi...</td>\n",
              "      <td>Frank Darabont</td>\n",
              "      <td>Drama</td>\n",
              "      <td>The Shawshank Redemption</td>\n",
              "    </tr>\n",
              "    <tr>\n",
              "      <th>1</th>\n",
              "      <td>Marlon Brando, Al Pacino, James Caan, Diane Ke...</td>\n",
              "      <td>Francis Ford Coppola</td>\n",
              "      <td>Crime, Drama</td>\n",
              "      <td>The Godfather</td>\n",
              "    </tr>\n",
              "    <tr>\n",
              "      <th>2</th>\n",
              "      <td>Christian Bale, Heath Ledger, Aaron Eckhart, M...</td>\n",
              "      <td>Christopher Nolan</td>\n",
              "      <td>Action, Crime, Drama</td>\n",
              "      <td>The Dark Knight</td>\n",
              "    </tr>\n",
              "  </tbody>\n",
              "</table>\n",
              "</div>\n",
              "      <button class=\"colab-df-convert\" onclick=\"convertToInteractive('df-ec1479fb-50ee-41bd-8e8f-9d1b071e1593')\"\n",
              "              title=\"Convert this dataframe to an interactive table.\"\n",
              "              style=\"display:none;\">\n",
              "        \n",
              "  <svg xmlns=\"http://www.w3.org/2000/svg\" height=\"24px\"viewBox=\"0 0 24 24\"\n",
              "       width=\"24px\">\n",
              "    <path d=\"M0 0h24v24H0V0z\" fill=\"none\"/>\n",
              "    <path d=\"M18.56 5.44l.94 2.06.94-2.06 2.06-.94-2.06-.94-.94-2.06-.94 2.06-2.06.94zm-11 1L8.5 8.5l.94-2.06 2.06-.94-2.06-.94L8.5 2.5l-.94 2.06-2.06.94zm10 10l.94 2.06.94-2.06 2.06-.94-2.06-.94-.94-2.06-.94 2.06-2.06.94z\"/><path d=\"M17.41 7.96l-1.37-1.37c-.4-.4-.92-.59-1.43-.59-.52 0-1.04.2-1.43.59L10.3 9.45l-7.72 7.72c-.78.78-.78 2.05 0 2.83L4 21.41c.39.39.9.59 1.41.59.51 0 1.02-.2 1.41-.59l7.78-7.78 2.81-2.81c.8-.78.8-2.07 0-2.86zM5.41 20L4 18.59l7.72-7.72 1.47 1.35L5.41 20z\"/>\n",
              "  </svg>\n",
              "      </button>\n",
              "      \n",
              "  <style>\n",
              "    .colab-df-container {\n",
              "      display:flex;\n",
              "      flex-wrap:wrap;\n",
              "      gap: 12px;\n",
              "    }\n",
              "\n",
              "    .colab-df-convert {\n",
              "      background-color: #E8F0FE;\n",
              "      border: none;\n",
              "      border-radius: 50%;\n",
              "      cursor: pointer;\n",
              "      display: none;\n",
              "      fill: #1967D2;\n",
              "      height: 32px;\n",
              "      padding: 0 0 0 0;\n",
              "      width: 32px;\n",
              "    }\n",
              "\n",
              "    .colab-df-convert:hover {\n",
              "      background-color: #E2EBFA;\n",
              "      box-shadow: 0px 1px 2px rgba(60, 64, 67, 0.3), 0px 1px 3px 1px rgba(60, 64, 67, 0.15);\n",
              "      fill: #174EA6;\n",
              "    }\n",
              "\n",
              "    [theme=dark] .colab-df-convert {\n",
              "      background-color: #3B4455;\n",
              "      fill: #D2E3FC;\n",
              "    }\n",
              "\n",
              "    [theme=dark] .colab-df-convert:hover {\n",
              "      background-color: #434B5C;\n",
              "      box-shadow: 0px 1px 3px 1px rgba(0, 0, 0, 0.15);\n",
              "      filter: drop-shadow(0px 1px 2px rgba(0, 0, 0, 0.3));\n",
              "      fill: #FFFFFF;\n",
              "    }\n",
              "  </style>\n",
              "\n",
              "      <script>\n",
              "        const buttonEl =\n",
              "          document.querySelector('#df-ec1479fb-50ee-41bd-8e8f-9d1b071e1593 button.colab-df-convert');\n",
              "        buttonEl.style.display =\n",
              "          google.colab.kernel.accessAllowed ? 'block' : 'none';\n",
              "\n",
              "        async function convertToInteractive(key) {\n",
              "          const element = document.querySelector('#df-ec1479fb-50ee-41bd-8e8f-9d1b071e1593');\n",
              "          const dataTable =\n",
              "            await google.colab.kernel.invokeFunction('convertToInteractive',\n",
              "                                                     [key], {});\n",
              "          if (!dataTable) return;\n",
              "\n",
              "          const docLinkHtml = 'Like what you see? Visit the ' +\n",
              "            '<a target=\"_blank\" href=https://colab.research.google.com/notebooks/data_table.ipynb>data table notebook</a>'\n",
              "            + ' to learn more about interactive tables.';\n",
              "          element.innerHTML = '';\n",
              "          dataTable['output_type'] = 'display_data';\n",
              "          await google.colab.output.renderOutput(dataTable, element);\n",
              "          const docLink = document.createElement('div');\n",
              "          docLink.innerHTML = docLinkHtml;\n",
              "          element.appendChild(docLink);\n",
              "        }\n",
              "      </script>\n",
              "    </div>\n",
              "  </div>\n",
              "  "
            ]
          },
          "metadata": {},
          "execution_count": 23
        }
      ]
    },
    {
      "cell_type": "code",
      "source": [
        "#Check for any missing values in the important columns\n",
        "df[columns].isnull().values.any()"
      ],
      "metadata": {
        "colab": {
          "base_uri": "https://localhost:8080/"
        },
        "id": "wHK3Z26q4dhx",
        "outputId": "4ca4ff43-cd3a-44e8-cd1b-f6b8f676deb1"
      },
      "execution_count": 25,
      "outputs": [
        {
          "output_type": "execute_result",
          "data": {
            "text/plain": [
              "False"
            ]
          },
          "metadata": {},
          "execution_count": 25
        }
      ]
    },
    {
      "cell_type": "code",
      "source": [
        "#Create a function to combine the values of the important columns into a single string\n",
        "def get_important_features(data):\n",
        "  important_features = []\n",
        "  for i in range(0, data.shape[0]):\n",
        "    important_features.append(data['Actors'][i] + ' ' + data['Director'][i] + ' ' + data['Genre'][i] + ' ' + data['Series_Title'][i])\n",
        "\n",
        "  return important_features"
      ],
      "metadata": {
        "id": "GBDKMwOv4rF9"
      },
      "execution_count": 26,
      "outputs": []
    },
    {
      "cell_type": "code",
      "source": [
        "#Create a column to hold the combined strings\n",
        "df['important_features'] = get_important_features(df)\n",
        "\n",
        "#Show the data\n",
        "df.head(3)"
      ],
      "metadata": {
        "colab": {
          "base_uri": "https://localhost:8080/",
          "height": 537
        },
        "id": "8HHA3Lmi6IuO",
        "outputId": "b3699a66-2575-4b84-f25d-3b5bef82f9e2"
      },
      "execution_count": 27,
      "outputs": [
        {
          "output_type": "execute_result",
          "data": {
            "text/plain": [
              "   Movie_id              Series_Title Released_Year Certificate  Runtime  \\\n",
              "0         0  The Shawshank Redemption          1994           A  142 min   \n",
              "1         1             The Godfather          1972           A  175 min   \n",
              "2         2           The Dark Knight          2008          UA  152 min   \n",
              "\n",
              "                  Genre  IMDB_Rating  \\\n",
              "0                 Drama          9.3   \n",
              "1          Crime, Drama          9.2   \n",
              "2  Action, Crime, Drama          9.0   \n",
              "\n",
              "                                            Overview  Meta_score  \\\n",
              "0  Two imprisoned men bond over a number of years...        80.0   \n",
              "1  An organized crime dynasty's aging patriarch t...       100.0   \n",
              "2  When the menace known as the Joker wreaks havo...        84.0   \n",
              "\n",
              "               Director           Star1           Star2          Star3  \\\n",
              "0        Frank Darabont     Tim Robbins  Morgan Freeman     Bob Gunton   \n",
              "1  Francis Ford Coppola   Marlon Brando       Al Pacino     James Caan   \n",
              "2     Christopher Nolan  Christian Bale    Heath Ledger  Aaron Eckhart   \n",
              "\n",
              "            Star4                                             Actors  \\\n",
              "0  William Sadler  Tim Robbins, Morgan Freeman, Bob Gunton, Willi...   \n",
              "1    Diane Keaton  Marlon Brando, Al Pacino, James Caan, Diane Ke...   \n",
              "2   Michael Caine  Christian Bale, Heath Ledger, Aaron Eckhart, M...   \n",
              "\n",
              "   No_of_Votes        Gross                                 important_features  \n",
              "0      2343110   28,341,469  Tim Robbins, Morgan Freeman, Bob Gunton, Willi...  \n",
              "1      1620367  134,966,411  Marlon Brando, Al Pacino, James Caan, Diane Ke...  \n",
              "2      2303232  534,858,444  Christian Bale, Heath Ledger, Aaron Eckhart, M...  "
            ],
            "text/html": [
              "\n",
              "  <div id=\"df-73e68516-ac27-422d-94de-3792100a40cf\">\n",
              "    <div class=\"colab-df-container\">\n",
              "      <div>\n",
              "<style scoped>\n",
              "    .dataframe tbody tr th:only-of-type {\n",
              "        vertical-align: middle;\n",
              "    }\n",
              "\n",
              "    .dataframe tbody tr th {\n",
              "        vertical-align: top;\n",
              "    }\n",
              "\n",
              "    .dataframe thead th {\n",
              "        text-align: right;\n",
              "    }\n",
              "</style>\n",
              "<table border=\"1\" class=\"dataframe\">\n",
              "  <thead>\n",
              "    <tr style=\"text-align: right;\">\n",
              "      <th></th>\n",
              "      <th>Movie_id</th>\n",
              "      <th>Series_Title</th>\n",
              "      <th>Released_Year</th>\n",
              "      <th>Certificate</th>\n",
              "      <th>Runtime</th>\n",
              "      <th>Genre</th>\n",
              "      <th>IMDB_Rating</th>\n",
              "      <th>Overview</th>\n",
              "      <th>Meta_score</th>\n",
              "      <th>Director</th>\n",
              "      <th>Star1</th>\n",
              "      <th>Star2</th>\n",
              "      <th>Star3</th>\n",
              "      <th>Star4</th>\n",
              "      <th>Actors</th>\n",
              "      <th>No_of_Votes</th>\n",
              "      <th>Gross</th>\n",
              "      <th>important_features</th>\n",
              "    </tr>\n",
              "  </thead>\n",
              "  <tbody>\n",
              "    <tr>\n",
              "      <th>0</th>\n",
              "      <td>0</td>\n",
              "      <td>The Shawshank Redemption</td>\n",
              "      <td>1994</td>\n",
              "      <td>A</td>\n",
              "      <td>142 min</td>\n",
              "      <td>Drama</td>\n",
              "      <td>9.3</td>\n",
              "      <td>Two imprisoned men bond over a number of years...</td>\n",
              "      <td>80.0</td>\n",
              "      <td>Frank Darabont</td>\n",
              "      <td>Tim Robbins</td>\n",
              "      <td>Morgan Freeman</td>\n",
              "      <td>Bob Gunton</td>\n",
              "      <td>William Sadler</td>\n",
              "      <td>Tim Robbins, Morgan Freeman, Bob Gunton, Willi...</td>\n",
              "      <td>2343110</td>\n",
              "      <td>28,341,469</td>\n",
              "      <td>Tim Robbins, Morgan Freeman, Bob Gunton, Willi...</td>\n",
              "    </tr>\n",
              "    <tr>\n",
              "      <th>1</th>\n",
              "      <td>1</td>\n",
              "      <td>The Godfather</td>\n",
              "      <td>1972</td>\n",
              "      <td>A</td>\n",
              "      <td>175 min</td>\n",
              "      <td>Crime, Drama</td>\n",
              "      <td>9.2</td>\n",
              "      <td>An organized crime dynasty's aging patriarch t...</td>\n",
              "      <td>100.0</td>\n",
              "      <td>Francis Ford Coppola</td>\n",
              "      <td>Marlon Brando</td>\n",
              "      <td>Al Pacino</td>\n",
              "      <td>James Caan</td>\n",
              "      <td>Diane Keaton</td>\n",
              "      <td>Marlon Brando, Al Pacino, James Caan, Diane Ke...</td>\n",
              "      <td>1620367</td>\n",
              "      <td>134,966,411</td>\n",
              "      <td>Marlon Brando, Al Pacino, James Caan, Diane Ke...</td>\n",
              "    </tr>\n",
              "    <tr>\n",
              "      <th>2</th>\n",
              "      <td>2</td>\n",
              "      <td>The Dark Knight</td>\n",
              "      <td>2008</td>\n",
              "      <td>UA</td>\n",
              "      <td>152 min</td>\n",
              "      <td>Action, Crime, Drama</td>\n",
              "      <td>9.0</td>\n",
              "      <td>When the menace known as the Joker wreaks havo...</td>\n",
              "      <td>84.0</td>\n",
              "      <td>Christopher Nolan</td>\n",
              "      <td>Christian Bale</td>\n",
              "      <td>Heath Ledger</td>\n",
              "      <td>Aaron Eckhart</td>\n",
              "      <td>Michael Caine</td>\n",
              "      <td>Christian Bale, Heath Ledger, Aaron Eckhart, M...</td>\n",
              "      <td>2303232</td>\n",
              "      <td>534,858,444</td>\n",
              "      <td>Christian Bale, Heath Ledger, Aaron Eckhart, M...</td>\n",
              "    </tr>\n",
              "  </tbody>\n",
              "</table>\n",
              "</div>\n",
              "      <button class=\"colab-df-convert\" onclick=\"convertToInteractive('df-73e68516-ac27-422d-94de-3792100a40cf')\"\n",
              "              title=\"Convert this dataframe to an interactive table.\"\n",
              "              style=\"display:none;\">\n",
              "        \n",
              "  <svg xmlns=\"http://www.w3.org/2000/svg\" height=\"24px\"viewBox=\"0 0 24 24\"\n",
              "       width=\"24px\">\n",
              "    <path d=\"M0 0h24v24H0V0z\" fill=\"none\"/>\n",
              "    <path d=\"M18.56 5.44l.94 2.06.94-2.06 2.06-.94-2.06-.94-.94-2.06-.94 2.06-2.06.94zm-11 1L8.5 8.5l.94-2.06 2.06-.94-2.06-.94L8.5 2.5l-.94 2.06-2.06.94zm10 10l.94 2.06.94-2.06 2.06-.94-2.06-.94-.94-2.06-.94 2.06-2.06.94z\"/><path d=\"M17.41 7.96l-1.37-1.37c-.4-.4-.92-.59-1.43-.59-.52 0-1.04.2-1.43.59L10.3 9.45l-7.72 7.72c-.78.78-.78 2.05 0 2.83L4 21.41c.39.39.9.59 1.41.59.51 0 1.02-.2 1.41-.59l7.78-7.78 2.81-2.81c.8-.78.8-2.07 0-2.86zM5.41 20L4 18.59l7.72-7.72 1.47 1.35L5.41 20z\"/>\n",
              "  </svg>\n",
              "      </button>\n",
              "      \n",
              "  <style>\n",
              "    .colab-df-container {\n",
              "      display:flex;\n",
              "      flex-wrap:wrap;\n",
              "      gap: 12px;\n",
              "    }\n",
              "\n",
              "    .colab-df-convert {\n",
              "      background-color: #E8F0FE;\n",
              "      border: none;\n",
              "      border-radius: 50%;\n",
              "      cursor: pointer;\n",
              "      display: none;\n",
              "      fill: #1967D2;\n",
              "      height: 32px;\n",
              "      padding: 0 0 0 0;\n",
              "      width: 32px;\n",
              "    }\n",
              "\n",
              "    .colab-df-convert:hover {\n",
              "      background-color: #E2EBFA;\n",
              "      box-shadow: 0px 1px 2px rgba(60, 64, 67, 0.3), 0px 1px 3px 1px rgba(60, 64, 67, 0.15);\n",
              "      fill: #174EA6;\n",
              "    }\n",
              "\n",
              "    [theme=dark] .colab-df-convert {\n",
              "      background-color: #3B4455;\n",
              "      fill: #D2E3FC;\n",
              "    }\n",
              "\n",
              "    [theme=dark] .colab-df-convert:hover {\n",
              "      background-color: #434B5C;\n",
              "      box-shadow: 0px 1px 3px 1px rgba(0, 0, 0, 0.15);\n",
              "      filter: drop-shadow(0px 1px 2px rgba(0, 0, 0, 0.3));\n",
              "      fill: #FFFFFF;\n",
              "    }\n",
              "  </style>\n",
              "\n",
              "      <script>\n",
              "        const buttonEl =\n",
              "          document.querySelector('#df-73e68516-ac27-422d-94de-3792100a40cf button.colab-df-convert');\n",
              "        buttonEl.style.display =\n",
              "          google.colab.kernel.accessAllowed ? 'block' : 'none';\n",
              "\n",
              "        async function convertToInteractive(key) {\n",
              "          const element = document.querySelector('#df-73e68516-ac27-422d-94de-3792100a40cf');\n",
              "          const dataTable =\n",
              "            await google.colab.kernel.invokeFunction('convertToInteractive',\n",
              "                                                     [key], {});\n",
              "          if (!dataTable) return;\n",
              "\n",
              "          const docLinkHtml = 'Like what you see? Visit the ' +\n",
              "            '<a target=\"_blank\" href=https://colab.research.google.com/notebooks/data_table.ipynb>data table notebook</a>'\n",
              "            + ' to learn more about interactive tables.';\n",
              "          element.innerHTML = '';\n",
              "          dataTable['output_type'] = 'display_data';\n",
              "          await google.colab.output.renderOutput(dataTable, element);\n",
              "          const docLink = document.createElement('div');\n",
              "          docLink.innerHTML = docLinkHtml;\n",
              "          element.appendChild(docLink);\n",
              "        }\n",
              "      </script>\n",
              "    </div>\n",
              "  </div>\n",
              "  "
            ]
          },
          "metadata": {},
          "execution_count": 27
        }
      ]
    },
    {
      "cell_type": "code",
      "source": [
        "#Convert the text to a matrix of token counts\n",
        "cm = CountVectorizer().fit_transform(df['important_features'])"
      ],
      "metadata": {
        "id": "itjBWRCy6qs_"
      },
      "execution_count": 28,
      "outputs": []
    },
    {
      "cell_type": "code",
      "source": [
        "#Get the cosine similarity matrix from the count matrix\n",
        "cs = cosine_similarity(cm)\n",
        "#Print the cosine similarity matrix\n",
        "print(cs)"
      ],
      "metadata": {
        "colab": {
          "base_uri": "https://localhost:8080/"
        },
        "id": "XWQSVdhG7UsX",
        "outputId": "44b6ba34-dde4-4805-93eb-0e18a6868108"
      },
      "execution_count": 30,
      "outputs": [
        {
          "output_type": "stream",
          "name": "stdout",
          "text": [
            "[[1.         0.13801311 0.13363062 ... 0.06482037 0.14824986 0.06681531]\n",
            " [0.13801311 1.         0.19364917 ... 0.06262243 0.07161149 0.12909944]\n",
            " [0.13363062 0.19364917 1.         ... 0.06063391 0.06933752 0.125     ]\n",
            " ...\n",
            " [0.06482037 0.06262243 0.06063391 ... 1.         0.13453456 0.        ]\n",
            " [0.14824986 0.07161149 0.06933752 ... 0.13453456 1.         0.13867505]\n",
            " [0.06681531 0.12909944 0.125      ... 0.         0.13867505 1.        ]]\n"
          ]
        }
      ]
    },
    {
      "cell_type": "code",
      "source": [
        "#Get the shape of the cosine similarity matrix\n",
        "cs.shape"
      ],
      "metadata": {
        "colab": {
          "base_uri": "https://localhost:8080/"
        },
        "id": "5BkwZS3BE8X0",
        "outputId": "f5293171-b287-46da-b487-1e3d3a7330d1"
      },
      "execution_count": 32,
      "outputs": [
        {
          "output_type": "execute_result",
          "data": {
            "text/plain": [
              "(1000, 1000)"
            ]
          },
          "metadata": {},
          "execution_count": 32
        }
      ]
    },
    {
      "cell_type": "code",
      "source": [
        "#Get the title of the movie that the user likes\n",
        "title = 'Pulp Fiction'\n",
        "\n",
        "#Find the movies id\n",
        "movie_id = df[df.Series_Title == title]['Movie_id'].values[0]"
      ],
      "metadata": {
        "id": "CWnHhqusJZ3n"
      },
      "execution_count": 35,
      "outputs": []
    },
    {
      "cell_type": "code",
      "source": [
        "#Create a list of enumerations for the similarity score\n",
        "scores = list(enumerate(cs[movie_id]))"
      ],
      "metadata": {
        "id": "ba8PJ2m5MBMK"
      },
      "execution_count": 43,
      "outputs": []
    },
    {
      "cell_type": "code",
      "source": [
        "#Sort the list\n",
        "sorted_scores = sorted(scores, key = lambda x:x[1], reverse = True)\n",
        "sorted_scores = sorted_scores[1:]"
      ],
      "metadata": {
        "id": "qu_1GqFhMt1T"
      },
      "execution_count": 45,
      "outputs": []
    },
    {
      "cell_type": "code",
      "source": [
        "#Print the sorted scores\n",
        "print(sorted_scores)"
      ],
      "metadata": {
        "colab": {
          "base_uri": "https://localhost:8080/"
        },
        "id": "7Y6QEMBaVydU",
        "outputId": "c3529465-48e4-4693-ce09-e39b009cdfb4"
      },
      "execution_count": 46,
      "outputs": [
        {
          "output_type": "stream",
          "name": "stdout",
          "text": [
            "[(241, 0.40089186286863654), (584, 0.3889222341312986), (369, 0.33407655239053047), (963, 0.3241018617760822), (103, 0.2760262237369417), (850, 0.2672612419124244), (713, 0.23904572186687872), (805, 0.21821789023599242), (62, 0.2142857142857143), (171, 0.2142857142857143), (364, 0.2142857142857143), (450, 0.2142857142857143), (849, 0.2142857142857143), (4, 0.20701966780270625), (93, 0.20701966780270625), (180, 0.20701966780270625), (598, 0.20701966780270625), (654, 0.20701966780270625), (699, 0.20701966780270625), (710, 0.20701966780270625), (811, 0.20701966780270625), (416, 0.2004459314343183), (680, 0.2004459314343183), (248, 0.19446111706564934), (276, 0.19446111706564934), (284, 0.19446111706564934), (523, 0.19446111706564934), (553, 0.19446111706564934), (827, 0.19446111706564934), (879, 0.19446111706564934), (978, 0.19446111706564934), (980, 0.19446111706564934), (986, 0.19446111706564934), (278, 0.18898223650461363), (457, 0.18898223650461363), (669, 0.18898223650461363), (674, 0.18898223650461363), (871, 0.18898223650461363), (826, 0.18394180184548975), (295, 0.17928429140015906), (532, 0.17094086468945693), (191, 0.16718346377260587), (87, 0.16116459280507606), (794, 0.15724272550828777), (55, 0.15430334996209194), (86, 0.14824986333222026), (136, 0.14824986333222026), (279, 0.14824986333222026), (895, 0.14824986333222026), (998, 0.14824986333222026), (42, 0.14285714285714288), (162, 0.14285714285714288), (163, 0.14285714285714288), (165, 0.14285714285714288), (189, 0.14285714285714288), (198, 0.14285714285714288), (218, 0.14285714285714288), (222, 0.14285714285714288), (224, 0.14285714285714288), (283, 0.14285714285714288), (288, 0.14285714285714288), (380, 0.14285714285714288), (411, 0.14285714285714288), (418, 0.14285714285714288), (425, 0.14285714285714288), (465, 0.14285714285714288), (474, 0.14285714285714288), (485, 0.14285714285714288), (617, 0.14285714285714288), (621, 0.14285714285714288), (639, 0.14285714285714288), (696, 0.14285714285714288), (739, 0.14285714285714288), (759, 0.14285714285714288), (775, 0.14285714285714288), (783, 0.14285714285714288), (817, 0.14285714285714288), (851, 0.14285714285714288), (859, 0.14285714285714288), (878, 0.14285714285714288), (885, 0.14285714285714288), (949, 0.14285714285714288), (993, 0.14285714285714288), (1, 0.13801311186847084), (15, 0.13801311186847084), (22, 0.13801311186847084), (33, 0.13801311186847084), (37, 0.13801311186847084), (108, 0.13801311186847084), (111, 0.13801311186847084), (133, 0.13801311186847084), (164, 0.13801311186847084), (187, 0.13801311186847084), (257, 0.13801311186847084), (308, 0.13801311186847084), (335, 0.13801311186847084), (378, 0.13801311186847084), (397, 0.13801311186847084), (436, 0.13801311186847084), (481, 0.13801311186847084), (494, 0.13801311186847084), (505, 0.13801311186847084), (548, 0.13801311186847084), (622, 0.13801311186847084), (676, 0.13801311186847084), (683, 0.13801311186847084), (709, 0.13801311186847084), (719, 0.13801311186847084), (723, 0.13801311186847084), (763, 0.13801311186847084), (767, 0.13801311186847084), (802, 0.13801311186847084), (809, 0.13801311186847084), (830, 0.13801311186847084), (836, 0.13801311186847084), (893, 0.13801311186847084), (921, 0.13801311186847084), (953, 0.13801311186847084), (954, 0.13801311186847084), (958, 0.13801311186847084), (960, 0.13801311186847084), (968, 0.13801311186847084), (987, 0.13801311186847084), (2, 0.1336306209562122), (77, 0.1336306209562122), (113, 0.1336306209562122), (123, 0.1336306209562122), (169, 0.1336306209562122), (179, 0.1336306209562122), (255, 0.1336306209562122), (305, 0.1336306209562122), (336, 0.1336306209562122), (356, 0.1336306209562122), (393, 0.1336306209562122), (437, 0.1336306209562122), (441, 0.1336306209562122), (484, 0.1336306209562122), (512, 0.1336306209562122), (519, 0.1336306209562122), (597, 0.1336306209562122), (630, 0.1336306209562122), (663, 0.1336306209562122), (684, 0.1336306209562122), (693, 0.1336306209562122), (768, 0.1336306209562122), (774, 0.1336306209562122), (778, 0.1336306209562122), (782, 0.1336306209562122), (791, 0.1336306209562122), (823, 0.1336306209562122), (831, 0.1336306209562122), (873, 0.1336306209562122), (901, 0.1336306209562122), (918, 0.1336306209562122), (926, 0.1336306209562122), (931, 0.1336306209562122), (938, 0.1336306209562122), (976, 0.1336306209562122), (25, 0.12964074471043288), (27, 0.12964074471043288), (79, 0.12964074471043288), (299, 0.12964074471043288), (384, 0.12964074471043288), (463, 0.12964074471043288), (472, 0.12964074471043288), (520, 0.12964074471043288), (558, 0.12964074471043288), (560, 0.12964074471043288), (577, 0.12964074471043288), (607, 0.12964074471043288), (730, 0.12964074471043288), (807, 0.12964074471043288), (832, 0.12964074471043288), (852, 0.12964074471043288), (882, 0.12964074471043288), (888, 0.12964074471043288), (896, 0.12964074471043288), (915, 0.12964074471043288), (974, 0.12964074471043288), (989, 0.12964074471043288), (71, 0.12598815766974242), (112, 0.12598815766974242), (147, 0.12598815766974242), (186, 0.12598815766974242), (201, 0.12598815766974242), (243, 0.12598815766974242), (252, 0.12598815766974242), (287, 0.12598815766974242), (444, 0.12598815766974242), (451, 0.12598815766974242), (461, 0.12598815766974242), (480, 0.12598815766974242), (487, 0.12598815766974242), (495, 0.12598815766974242), (611, 0.12598815766974242), (753, 0.12598815766974242), (762, 0.12598815766974242), (814, 0.12598815766974242), (132, 0.12262786789699316), (153, 0.12262786789699316), (345, 0.12262786789699316), (363, 0.12262786789699316), (545, 0.12262786789699316), (653, 0.12262786789699316), (661, 0.12262786789699316), (3, 0.11952286093343936), (28, 0.11952286093343936), (391, 0.11952286093343936), (424, 0.11952286093343936), (527, 0.11952286093343936), (606, 0.11952286093343936), (666, 0.11952286093343936), (687, 0.11952286093343936), (695, 0.11952286093343936), (797, 0.11952286093343936), (833, 0.11952286093343936), (922, 0.11952286093343936), (939, 0.11952286093343936), (232, 0.11664236870396087), (438, 0.11664236870396087), (442, 0.11664236870396087), (546, 0.11664236870396087), (603, 0.11664236870396087), (718, 0.11664236870396087), (737, 0.11664236870396087), (263, 0.11396057645963795), (375, 0.11396057645963795), (664, 0.11145564251507058), (261, 0.10910894511799621), (602, 0.10910894511799621), (708, 0.10910894511799621), (605, 0.10482848367219184), (13, 0.10286889997472795), (239, 0.09759000729485331), (5, 0.08787495503274936), (10, 0.08787495503274936), (20, 0.08058229640253803), (34, 0.07715167498104597), (64, 0.07715167498104597), (130, 0.07715167498104597), (141, 0.07715167498104597), (280, 0.07715167498104597), (331, 0.07715167498104597), (370, 0.07715167498104597), (432, 0.07715167498104597), (491, 0.07715167498104597), (572, 0.07715167498104597), (636, 0.07715167498104597), (818, 0.07715167498104597), (880, 0.07715167498104597), (883, 0.07715167498104597), (9, 0.07412493166611013), (76, 0.07412493166611013), (98, 0.07412493166611013), (121, 0.07412493166611013), (128, 0.07412493166611013), (134, 0.07412493166611013), (138, 0.07412493166611013), (154, 0.07412493166611013), (160, 0.07412493166611013), (184, 0.07412493166611013), (188, 0.07412493166611013), (200, 0.07412493166611013), (203, 0.07412493166611013), (227, 0.07412493166611013), (254, 0.07412493166611013), (268, 0.07412493166611013), (289, 0.07412493166611013), (324, 0.07412493166611013), (328, 0.07412493166611013), (333, 0.07412493166611013), (350, 0.07412493166611013), (404, 0.07412493166611013), (420, 0.07412493166611013), (443, 0.07412493166611013), (468, 0.07412493166611013), (550, 0.07412493166611013), (567, 0.07412493166611013), (601, 0.07412493166611013), (652, 0.07412493166611013), (662, 0.07412493166611013), (670, 0.07412493166611013), (742, 0.07412493166611013), (787, 0.07412493166611013), (788, 0.07412493166611013), (789, 0.07412493166611013), (838, 0.07412493166611013), (894, 0.07412493166611013), (905, 0.07412493166611013), (916, 0.07412493166611013), (917, 0.07412493166611013), (928, 0.07412493166611013), (996, 0.07412493166611013), (0, 0.07142857142857144), (11, 0.07142857142857144), (30, 0.07142857142857144), (39, 0.07142857142857144), (49, 0.07142857142857144), (50, 0.07142857142857144), (73, 0.07142857142857144), (75, 0.07142857142857144), (92, 0.07142857142857144), (96, 0.07142857142857144), (97, 0.07142857142857144), (107, 0.07142857142857144), (137, 0.07142857142857144), (144, 0.07142857142857144), (146, 0.07142857142857144), (159, 0.07142857142857144), (174, 0.07142857142857144), (181, 0.07142857142857144), (190, 0.07142857142857144), (196, 0.07142857142857144), (206, 0.07142857142857144), (207, 0.07142857142857144), (214, 0.07142857142857144), (259, 0.07142857142857144), (273, 0.07142857142857144), (274, 0.07142857142857144), (285, 0.07142857142857144), (294, 0.07142857142857144), (296, 0.07142857142857144), (303, 0.07142857142857144), (312, 0.07142857142857144), (323, 0.07142857142857144), (326, 0.07142857142857144), (347, 0.07142857142857144), (349, 0.07142857142857144), (354, 0.07142857142857144), (355, 0.07142857142857144), (358, 0.07142857142857144), (372, 0.07142857142857144), (383, 0.07142857142857144), (392, 0.07142857142857144), (398, 0.07142857142857144), (399, 0.07142857142857144), (400, 0.07142857142857144), (413, 0.07142857142857144), (423, 0.07142857142857144), (434, 0.07142857142857144), (447, 0.07142857142857144), (452, 0.07142857142857144), (471, 0.07142857142857144), (476, 0.07142857142857144), (483, 0.07142857142857144), (517, 0.07142857142857144), (538, 0.07142857142857144), (542, 0.07142857142857144), (549, 0.07142857142857144), (554, 0.07142857142857144), (557, 0.07142857142857144), (570, 0.07142857142857144), (573, 0.07142857142857144), (574, 0.07142857142857144), (585, 0.07142857142857144), (587, 0.07142857142857144), (588, 0.07142857142857144), (590, 0.07142857142857144), (594, 0.07142857142857144), (620, 0.07142857142857144), (631, 0.07142857142857144), (637, 0.07142857142857144), (659, 0.07142857142857144), (671, 0.07142857142857144), (673, 0.07142857142857144), (682, 0.07142857142857144), (697, 0.07142857142857144), (720, 0.07142857142857144), (765, 0.07142857142857144), (773, 0.07142857142857144), (779, 0.07142857142857144), (795, 0.07142857142857144), (801, 0.07142857142857144), (803, 0.07142857142857144), (841, 0.07142857142857144), (844, 0.07142857142857144), (855, 0.07142857142857144), (860, 0.07142857142857144), (863, 0.07142857142857144), (868, 0.07142857142857144), (869, 0.07142857142857144), (870, 0.07142857142857144), (881, 0.07142857142857144), (886, 0.07142857142857144), (892, 0.07142857142857144), (913, 0.07142857142857144), (934, 0.07142857142857144), (941, 0.07142857142857144), (961, 0.07142857142857144), (973, 0.07142857142857144), (7, 0.06900655593423542), (21, 0.06900655593423542), (38, 0.06900655593423542), (40, 0.06900655593423542), (45, 0.06900655593423542), (57, 0.06900655593423542), (80, 0.06900655593423542), (84, 0.06900655593423542), (85, 0.06900655593423542), (88, 0.06900655593423542), (89, 0.06900655593423542), (90, 0.06900655593423542), (101, 0.06900655593423542), (104, 0.06900655593423542), (105, 0.06900655593423542), (110, 0.06900655593423542), (117, 0.06900655593423542), (122, 0.06900655593423542), (126, 0.06900655593423542), (131, 0.06900655593423542), (175, 0.06900655593423542), (176, 0.06900655593423542), (182, 0.06900655593423542), (202, 0.06900655593423542), (204, 0.06900655593423542), (212, 0.06900655593423542), (216, 0.06900655593423542), (217, 0.06900655593423542), (235, 0.06900655593423542), (237, 0.06900655593423542), (244, 0.06900655593423542), (245, 0.06900655593423542), (250, 0.06900655593423542), (256, 0.06900655593423542), (267, 0.06900655593423542), (281, 0.06900655593423542), (282, 0.06900655593423542), (286, 0.06900655593423542), (292, 0.06900655593423542), (297, 0.06900655593423542), (300, 0.06900655593423542), (302, 0.06900655593423542), (322, 0.06900655593423542), (341, 0.06900655593423542), (342, 0.06900655593423542), (343, 0.06900655593423542), (361, 0.06900655593423542), (373, 0.06900655593423542), (377, 0.06900655593423542), (386, 0.06900655593423542), (387, 0.06900655593423542), (388, 0.06900655593423542), (394, 0.06900655593423542), (412, 0.06900655593423542), (427, 0.06900655593423542), (430, 0.06900655593423542), (435, 0.06900655593423542), (445, 0.06900655593423542), (453, 0.06900655593423542), (462, 0.06900655593423542), (466, 0.06900655593423542), (478, 0.06900655593423542), (486, 0.06900655593423542), (489, 0.06900655593423542), (492, 0.06900655593423542), (497, 0.06900655593423542), (498, 0.06900655593423542), (501, 0.06900655593423542), (514, 0.06900655593423542), (515, 0.06900655593423542), (516, 0.06900655593423542), (529, 0.06900655593423542), (551, 0.06900655593423542), (552, 0.06900655593423542), (555, 0.06900655593423542), (559, 0.06900655593423542), (569, 0.06900655593423542), (571, 0.06900655593423542), (575, 0.06900655593423542), (580, 0.06900655593423542), (586, 0.06900655593423542), (593, 0.06900655593423542), (595, 0.06900655593423542), (614, 0.06900655593423542), (619, 0.06900655593423542), (625, 0.06900655593423542), (626, 0.06900655593423542), (647, 0.06900655593423542), (649, 0.06900655593423542), (658, 0.06900655593423542), (679, 0.06900655593423542), (690, 0.06900655593423542), (706, 0.06900655593423542), (721, 0.06900655593423542), (745, 0.06900655593423542), (748, 0.06900655593423542), (757, 0.06900655593423542), (760, 0.06900655593423542), (769, 0.06900655593423542), (770, 0.06900655593423542), (772, 0.06900655593423542), (780, 0.06900655593423542), (784, 0.06900655593423542), (810, 0.06900655593423542), (813, 0.06900655593423542), (824, 0.06900655593423542), (834, 0.06900655593423542), (857, 0.06900655593423542), (862, 0.06900655593423542), (864, 0.06900655593423542), (874, 0.06900655593423542), (875, 0.06900655593423542), (877, 0.06900655593423542), (897, 0.06900655593423542), (906, 0.06900655593423542), (909, 0.06900655593423542), (910, 0.06900655593423542), (925, 0.06900655593423542), (930, 0.06900655593423542), (933, 0.06900655593423542), (937, 0.06900655593423542), (940, 0.06900655593423542), (944, 0.06900655593423542), (945, 0.06900655593423542), (962, 0.06900655593423542), (964, 0.06900655593423542), (966, 0.06900655593423542), (970, 0.06900655593423542), (972, 0.06900655593423542), (979, 0.06900655593423542), (983, 0.06900655593423542), (31, 0.0668153104781061), (32, 0.0668153104781061), (35, 0.0668153104781061), (36, 0.0668153104781061), (41, 0.0668153104781061), (46, 0.0668153104781061), (74, 0.0668153104781061), (82, 0.0668153104781061), (99, 0.0668153104781061), (116, 0.0668153104781061), (140, 0.0668153104781061), (142, 0.0668153104781061), (150, 0.0668153104781061), (152, 0.0668153104781061), (156, 0.0668153104781061), (157, 0.0668153104781061), (172, 0.0668153104781061), (173, 0.0668153104781061), (197, 0.0668153104781061), (210, 0.0668153104781061), (258, 0.0668153104781061), (266, 0.0668153104781061), (269, 0.0668153104781061), (271, 0.0668153104781061), (277, 0.0668153104781061), (291, 0.0668153104781061), (298, 0.0668153104781061), (310, 0.0668153104781061), (319, 0.0668153104781061), (329, 0.0668153104781061), (337, 0.0668153104781061), (338, 0.0668153104781061), (353, 0.0668153104781061), (359, 0.0668153104781061), (382, 0.0668153104781061), (385, 0.0668153104781061), (403, 0.0668153104781061), (421, 0.0668153104781061), (422, 0.0668153104781061), (428, 0.0668153104781061), (439, 0.0668153104781061), (449, 0.0668153104781061), (456, 0.0668153104781061), (459, 0.0668153104781061), (460, 0.0668153104781061), (464, 0.0668153104781061), (504, 0.0668153104781061), (508, 0.0668153104781061), (509, 0.0668153104781061), (518, 0.0668153104781061), (521, 0.0668153104781061), (524, 0.0668153104781061), (528, 0.0668153104781061), (534, 0.0668153104781061), (541, 0.0668153104781061), (563, 0.0668153104781061), (566, 0.0668153104781061), (581, 0.0668153104781061), (589, 0.0668153104781061), (600, 0.0668153104781061), (613, 0.0668153104781061), (629, 0.0668153104781061), (635, 0.0668153104781061), (644, 0.0668153104781061), (646, 0.0668153104781061), (655, 0.0668153104781061), (656, 0.0668153104781061), (657, 0.0668153104781061), (660, 0.0668153104781061), (667, 0.0668153104781061), (672, 0.0668153104781061), (677, 0.0668153104781061), (686, 0.0668153104781061), (689, 0.0668153104781061), (702, 0.0668153104781061), (705, 0.0668153104781061), (728, 0.0668153104781061), (735, 0.0668153104781061), (738, 0.0668153104781061), (740, 0.0668153104781061), (741, 0.0668153104781061), (758, 0.0668153104781061), (764, 0.0668153104781061), (785, 0.0668153104781061), (786, 0.0668153104781061), (790, 0.0668153104781061), (793, 0.0668153104781061), (812, 0.0668153104781061), (837, 0.0668153104781061), (856, 0.0668153104781061), (865, 0.0668153104781061), (866, 0.0668153104781061), (889, 0.0668153104781061), (890, 0.0668153104781061), (904, 0.0668153104781061), (929, 0.0668153104781061), (935, 0.0668153104781061), (951, 0.0668153104781061), (952, 0.0668153104781061), (955, 0.0668153104781061), (967, 0.0668153104781061), (981, 0.0668153104781061), (985, 0.0668153104781061), (990, 0.0668153104781061), (994, 0.0668153104781061), (995, 0.0668153104781061), (999, 0.0668153104781061), (17, 0.06482037235521644), (18, 0.06482037235521644), (24, 0.06482037235521644), (43, 0.06482037235521644), (53, 0.06482037235521644), (56, 0.06482037235521644), (129, 0.06482037235521644), (148, 0.06482037235521644), (167, 0.06482037235521644), (185, 0.06482037235521644), (208, 0.06482037235521644), (209, 0.06482037235521644), (219, 0.06482037235521644), (225, 0.06482037235521644), (228, 0.06482037235521644), (229, 0.06482037235521644), (231, 0.06482037235521644), (233, 0.06482037235521644), (238, 0.06482037235521644), (264, 0.06482037235521644), (272, 0.06482037235521644), (301, 0.06482037235521644), (307, 0.06482037235521644), (313, 0.06482037235521644), (314, 0.06482037235521644), (327, 0.06482037235521644), (340, 0.06482037235521644), (344, 0.06482037235521644), (346, 0.06482037235521644), (352, 0.06482037235521644), (407, 0.06482037235521644), (409, 0.06482037235521644), (429, 0.06482037235521644), (440, 0.06482037235521644), (455, 0.06482037235521644), (467, 0.06482037235521644), (496, 0.06482037235521644), (513, 0.06482037235521644), (536, 0.06482037235521644), (556, 0.06482037235521644), (561, 0.06482037235521644), (604, 0.06482037235521644), (618, 0.06482037235521644), (624, 0.06482037235521644), (632, 0.06482037235521644), (650, 0.06482037235521644), (678, 0.06482037235521644), (703, 0.06482037235521644), (716, 0.06482037235521644), (729, 0.06482037235521644), (731, 0.06482037235521644), (734, 0.06482037235521644), (747, 0.06482037235521644), (752, 0.06482037235521644), (792, 0.06482037235521644), (804, 0.06482037235521644), (853, 0.06482037235521644), (858, 0.06482037235521644), (884, 0.06482037235521644), (908, 0.06482037235521644), (911, 0.06482037235521644), (923, 0.06482037235521644), (942, 0.06482037235521644), (943, 0.06482037235521644), (946, 0.06482037235521644), (975, 0.06482037235521644), (997, 0.06482037235521644), (59, 0.06299407883487121), (72, 0.06299407883487121), (102, 0.06299407883487121), (124, 0.06299407883487121), (125, 0.06299407883487121), (221, 0.06299407883487121), (251, 0.06299407883487121), (265, 0.06299407883487121), (315, 0.06299407883487121), (334, 0.06299407883487121), (360, 0.06299407883487121), (381, 0.06299407883487121), (408, 0.06299407883487121), (448, 0.06299407883487121), (470, 0.06299407883487121), (490, 0.06299407883487121), (500, 0.06299407883487121), (533, 0.06299407883487121), (579, 0.06299407883487121), (640, 0.06299407883487121), (642, 0.06299407883487121), (643, 0.06299407883487121), (648, 0.06299407883487121), (665, 0.06299407883487121), (668, 0.06299407883487121), (726, 0.06299407883487121), (766, 0.06299407883487121), (820, 0.06299407883487121), (825, 0.06299407883487121), (924, 0.06299407883487121), (950, 0.06299407883487121), (971, 0.06299407883487121), (982, 0.06299407883487121), (992, 0.06299407883487121), (51, 0.06131393394849658), (52, 0.06131393394849658), (65, 0.06131393394849658), (68, 0.06131393394849658), (91, 0.06131393394849658), (127, 0.06131393394849658), (139, 0.06131393394849658), (143, 0.06131393394849658), (149, 0.06131393394849658), (195, 0.06131393394849658), (211, 0.06131393394849658), (215, 0.06131393394849658), (234, 0.06131393394849658), (236, 0.06131393394849658), (240, 0.06131393394849658), (247, 0.06131393394849658), (290, 0.06131393394849658), (293, 0.06131393394849658), (317, 0.06131393394849658), (332, 0.06131393394849658), (351, 0.06131393394849658), (390, 0.06131393394849658), (431, 0.06131393394849658), (433, 0.06131393394849658), (454, 0.06131393394849658), (510, 0.06131393394849658), (526, 0.06131393394849658), (610, 0.06131393394849658), (628, 0.06131393394849658), (692, 0.06131393394849658), (701, 0.06131393394849658), (733, 0.06131393394849658), (754, 0.06131393394849658), (796, 0.06131393394849658), (798, 0.06131393394849658), (845, 0.06131393394849658), (867, 0.06131393394849658), (907, 0.06131393394849658), (936, 0.06131393394849658), (988, 0.06131393394849658), (26, 0.05976143046671968), (83, 0.05976143046671968), (193, 0.05976143046671968), (226, 0.05976143046671968), (249, 0.05976143046671968), (260, 0.05976143046671968), (306, 0.05976143046671968), (311, 0.05976143046671968), (365, 0.05976143046671968), (402, 0.05976143046671968), (475, 0.05976143046671968), (477, 0.05976143046671968), (537, 0.05976143046671968), (609, 0.05976143046671968), (815, 0.05976143046671968), (819, 0.05976143046671968), (847, 0.05976143046671968), (903, 0.05976143046671968), (19, 0.058321184351980436), (54, 0.058321184351980436), (67, 0.058321184351980436), (94, 0.058321184351980436), (100, 0.058321184351980436), (161, 0.058321184351980436), (178, 0.058321184351980436), (199, 0.058321184351980436), (304, 0.058321184351980436), (608, 0.058321184351980436), (612, 0.058321184351980436), (638, 0.058321184351980436), (736, 0.058321184351980436), (806, 0.058321184351980436), (821, 0.058321184351980436), (872, 0.058321184351980436), (957, 0.058321184351980436), (965, 0.058321184351980436), (379, 0.05698028822981897), (616, 0.05698028822981897), (732, 0.05698028822981897), (977, 0.05698028822981897), (374, 0.05572782125753529), (525, 0.05572782125753529), (641, 0.054554472558998104), (246, 0.053452248382484885), (898, 0.053452248382484885), (253, 0.05241424183609592), (371, 0.04173919355648411), (8, 0.0), (12, 0.0), (14, 0.0), (16, 0.0), (23, 0.0), (29, 0.0), (44, 0.0), (47, 0.0), (48, 0.0), (58, 0.0), (60, 0.0), (61, 0.0), (63, 0.0), (66, 0.0), (69, 0.0), (70, 0.0), (78, 0.0), (81, 0.0), (95, 0.0), (106, 0.0), (109, 0.0), (114, 0.0), (115, 0.0), (118, 0.0), (119, 0.0), (120, 0.0), (135, 0.0), (145, 0.0), (151, 0.0), (155, 0.0), (158, 0.0), (166, 0.0), (168, 0.0), (170, 0.0), (177, 0.0), (183, 0.0), (192, 0.0), (194, 0.0), (205, 0.0), (213, 0.0), (220, 0.0), (223, 0.0), (230, 0.0), (242, 0.0), (262, 0.0), (270, 0.0), (275, 0.0), (309, 0.0), (316, 0.0), (318, 0.0), (320, 0.0), (321, 0.0), (325, 0.0), (330, 0.0), (339, 0.0), (348, 0.0), (357, 0.0), (362, 0.0), (366, 0.0), (367, 0.0), (368, 0.0), (376, 0.0), (389, 0.0), (395, 0.0), (396, 0.0), (401, 0.0), (405, 0.0), (406, 0.0), (410, 0.0), (414, 0.0), (415, 0.0), (417, 0.0), (419, 0.0), (426, 0.0), (446, 0.0), (458, 0.0), (469, 0.0), (473, 0.0), (479, 0.0), (482, 0.0), (488, 0.0), (493, 0.0), (499, 0.0), (502, 0.0), (503, 0.0), (506, 0.0), (507, 0.0), (511, 0.0), (522, 0.0), (530, 0.0), (531, 0.0), (535, 0.0), (539, 0.0), (540, 0.0), (543, 0.0), (544, 0.0), (547, 0.0), (562, 0.0), (564, 0.0), (565, 0.0), (568, 0.0), (576, 0.0), (578, 0.0), (582, 0.0), (583, 0.0), (591, 0.0), (592, 0.0), (596, 0.0), (599, 0.0), (615, 0.0), (623, 0.0), (627, 0.0), (633, 0.0), (634, 0.0), (645, 0.0), (651, 0.0), (675, 0.0), (681, 0.0), (685, 0.0), (688, 0.0), (691, 0.0), (694, 0.0), (698, 0.0), (700, 0.0), (704, 0.0), (707, 0.0), (711, 0.0), (712, 0.0), (714, 0.0), (715, 0.0), (717, 0.0), (722, 0.0), (724, 0.0), (725, 0.0), (727, 0.0), (743, 0.0), (744, 0.0), (746, 0.0), (749, 0.0), (750, 0.0), (751, 0.0), (755, 0.0), (756, 0.0), (761, 0.0), (771, 0.0), (776, 0.0), (777, 0.0), (781, 0.0), (799, 0.0), (800, 0.0), (808, 0.0), (816, 0.0), (822, 0.0), (828, 0.0), (829, 0.0), (835, 0.0), (839, 0.0), (840, 0.0), (842, 0.0), (843, 0.0), (846, 0.0), (848, 0.0), (854, 0.0), (861, 0.0), (876, 0.0), (887, 0.0), (891, 0.0), (899, 0.0), (900, 0.0), (902, 0.0), (912, 0.0), (914, 0.0), (919, 0.0), (920, 0.0), (927, 0.0), (932, 0.0), (947, 0.0), (948, 0.0), (956, 0.0), (959, 0.0), (969, 0.0), (984, 0.0), (991, 0.0)]\n"
          ]
        }
      ]
    },
    {
      "cell_type": "code",
      "source": [
        "#Create a loop to print the first 7 similar movies\n",
        "j = 0\n",
        "print('The 7 most recommended movies to', title, 'are:\\n')\n",
        "for item in sorted_scores:\n",
        "  movie_title = df[df.Movie_id == item[0]]['Series_Title'].values[0]\n",
        "  print(j+1, movie_title)\n",
        "  j = j + 1\n",
        "  if j > 6:\n",
        "    break"
      ],
      "metadata": {
        "colab": {
          "base_uri": "https://localhost:8080/"
        },
        "id": "5uo-7kG4V4lf",
        "outputId": "97910929-f980-429e-a41e-c2a62b43e1b6"
      },
      "execution_count": 47,
      "outputs": [
        {
          "output_type": "stream",
          "name": "stdout",
          "text": [
            "The 7 most recommended movies to Pulp Fiction are:\n",
            "\n",
            "1 Kill Bill: Vol. 1\n",
            "2 The Hateful Eight\n",
            "3 Kill Bill: Vol. 2\n",
            "4 Die Hard: With a Vengeance\n",
            "5 Reservoir Dogs\n",
            "6 Enter the Dragon\n",
            "7 Stagecoach\n"
          ]
        }
      ]
    },
    {
      "cell_type": "code",
      "source": [
        ""
      ],
      "metadata": {
        "id": "O1xklbhSiEnY"
      },
      "execution_count": null,
      "outputs": []
    }
  ],
  "metadata": {
    "colab": {
      "name": "Movie_Recommendation.ipynb",
      "provenance": [],
      "collapsed_sections": [],
      "authorship_tag": "ABX9TyOpJ60Xl9a7XN8gR/O8uj6V",
      "include_colab_link": true
    },
    "kernelspec": {
      "display_name": "Python 3",
      "name": "python3"
    },
    "language_info": {
      "name": "python"
    }
  },
  "nbformat": 4,
  "nbformat_minor": 0
}